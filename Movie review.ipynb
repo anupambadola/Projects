{
 "cells": [
  {
   "cell_type": "code",
   "execution_count": 1,
   "metadata": {},
   "outputs": [],
   "source": [
    "import pandas as pd\n",
    "from keras.layers import Flatten\n",
    "from tensorflow.keras.layers import GlobalAveragePooling1D\n",
    "from tensorflow.keras.models import Sequential\n",
    "from tensorflow.keras.layers import Embedding\n",
    "from tensorflow.keras.layers import Dropout\n",
    "import numpy as np\n",
    "import glob\n",
    "import os\n",
    "import tensorflow as tf\n",
    "import nltk\n",
    "from tensorflow.keras.preprocessing.text import Tokenizer\n",
    "from tensorflow.keras.layers import Dense\n",
    "from nltk.corpus import stopwords\n",
    "from nltk.stem import PorterStemmer\n",
    "import re\n",
    "files_path_1= r\"C:\\Users\\anupa\\Downloads\\Python\\Deep Learning to AI\\NLP_text mining\\txt_sentoken\\txt_sentoken\\pos\"\n",
    "files_path_2= r\"C:\\Users\\anupa\\Downloads\\Python\\Deep Learning to AI\\NLP_text mining\\txt_sentoken\\txt_sentoken\\neg\"\n",
    "\n",
    "def load_doc(filepath):\n",
    "    data=[]\n",
    "    files=os.listdir(filepath)\n",
    "    for fle in files:\n",
    " \n",
    "        with open(os.path.join(filepath, fle),\"r\") as f:\n",
    "        \n",
    "            text = f.read()\n",
    "            data.append(text)\n",
    "            f.close()\n",
    "    return data"
   ]
  },
  {
   "cell_type": "code",
   "execution_count": 2,
   "metadata": {},
   "outputs": [],
   "source": [
    "positive_data=load_doc(files_path_1)"
   ]
  },
  {
   "cell_type": "code",
   "execution_count": 41,
   "metadata": {},
   "outputs": [
    {
     "data": {
      "text/plain": [
       "0      films adapted from comic books have had plenty...\n",
       "1      every now and then a movie comes along from a ...\n",
       "2      you've got mail works alot better than it dese...\n",
       "3       \" jaws \" is a rare film that grabs your atten...\n",
       "4      moviemaking is a lot like being the general ma...\n",
       "                             ...                        \n",
       "995    wow ! what a movie . \\nit's everything a movie...\n",
       "996    richard gere can be a commanding actor , but h...\n",
       "997    glory--starring matthew broderick , denzel was...\n",
       "998    steven spielberg's second epic film on world w...\n",
       "999    truman ( \" true-man \" ) burbank is the perfect...\n",
       "Name: 0, Length: 1000, dtype: object"
      ]
     },
     "execution_count": 41,
     "metadata": {},
     "output_type": "execute_result"
    }
   ],
   "source": [
    "positive_data[0]"
   ]
  },
  {
   "cell_type": "code",
   "execution_count": 4,
   "metadata": {},
   "outputs": [],
   "source": [
    "negative_data=load_doc(files_path_2)"
   ]
  },
  {
   "cell_type": "code",
   "execution_count": 42,
   "metadata": {},
   "outputs": [
    {
     "data": {
      "text/plain": [
       "0      plot : two teen couples go to a church party ,...\n",
       "1      the happy bastard's quick movie review \\ndamn ...\n",
       "2      it is movies like these that make a jaded movi...\n",
       "3       \" quest for camelot \" is warner bros . ' firs...\n",
       "4      synopsis : a mentally unstable man undergoing ...\n",
       "                             ...                        \n",
       "995    if anything , \" stigmata \" should be taken as ...\n",
       "996    john boorman's \" zardoz \" is a goofy cinematic...\n",
       "997    the kids in the hall are an acquired taste . \\...\n",
       "998    there was a time when john carpenter was a gre...\n",
       "999    two party guys bob their heads to haddaway's d...\n",
       "Name: 0, Length: 1000, dtype: object"
      ]
     },
     "execution_count": 42,
     "metadata": {},
     "output_type": "execute_result"
    }
   ],
   "source": [
    "negative_data[0]"
   ]
  },
  {
   "cell_type": "code",
   "execution_count": 6,
   "metadata": {},
   "outputs": [
    {
     "data": {
      "text/html": [
       "<div>\n",
       "<style scoped>\n",
       "    .dataframe tbody tr th:only-of-type {\n",
       "        vertical-align: middle;\n",
       "    }\n",
       "\n",
       "    .dataframe tbody tr th {\n",
       "        vertical-align: top;\n",
       "    }\n",
       "\n",
       "    .dataframe thead th {\n",
       "        text-align: right;\n",
       "    }\n",
       "</style>\n",
       "<table border=\"1\" class=\"dataframe\">\n",
       "  <thead>\n",
       "    <tr style=\"text-align: right;\">\n",
       "      <th></th>\n",
       "      <th>0</th>\n",
       "      <th>Labels</th>\n",
       "    </tr>\n",
       "  </thead>\n",
       "  <tbody>\n",
       "    <tr>\n",
       "      <th>0</th>\n",
       "      <td>films adapted from comic books have had plenty...</td>\n",
       "      <td>1.0</td>\n",
       "    </tr>\n",
       "    <tr>\n",
       "      <th>1</th>\n",
       "      <td>every now and then a movie comes along from a ...</td>\n",
       "      <td>1.0</td>\n",
       "    </tr>\n",
       "    <tr>\n",
       "      <th>2</th>\n",
       "      <td>you've got mail works alot better than it dese...</td>\n",
       "      <td>1.0</td>\n",
       "    </tr>\n",
       "    <tr>\n",
       "      <th>3</th>\n",
       "      <td>\" jaws \" is a rare film that grabs your atten...</td>\n",
       "      <td>1.0</td>\n",
       "    </tr>\n",
       "    <tr>\n",
       "      <th>4</th>\n",
       "      <td>moviemaking is a lot like being the general ma...</td>\n",
       "      <td>1.0</td>\n",
       "    </tr>\n",
       "    <tr>\n",
       "      <th>...</th>\n",
       "      <td>...</td>\n",
       "      <td>...</td>\n",
       "    </tr>\n",
       "    <tr>\n",
       "      <th>995</th>\n",
       "      <td>wow ! what a movie . \\nit's everything a movie...</td>\n",
       "      <td>1.0</td>\n",
       "    </tr>\n",
       "    <tr>\n",
       "      <th>996</th>\n",
       "      <td>richard gere can be a commanding actor , but h...</td>\n",
       "      <td>1.0</td>\n",
       "    </tr>\n",
       "    <tr>\n",
       "      <th>997</th>\n",
       "      <td>glory--starring matthew broderick , denzel was...</td>\n",
       "      <td>1.0</td>\n",
       "    </tr>\n",
       "    <tr>\n",
       "      <th>998</th>\n",
       "      <td>steven spielberg's second epic film on world w...</td>\n",
       "      <td>1.0</td>\n",
       "    </tr>\n",
       "    <tr>\n",
       "      <th>999</th>\n",
       "      <td>truman ( \" true-man \" ) burbank is the perfect...</td>\n",
       "      <td>1.0</td>\n",
       "    </tr>\n",
       "  </tbody>\n",
       "</table>\n",
       "<p>1000 rows × 2 columns</p>\n",
       "</div>"
      ],
      "text/plain": [
       "                                                     0  Labels\n",
       "0    films adapted from comic books have had plenty...     1.0\n",
       "1    every now and then a movie comes along from a ...     1.0\n",
       "2    you've got mail works alot better than it dese...     1.0\n",
       "3     \" jaws \" is a rare film that grabs your atten...     1.0\n",
       "4    moviemaking is a lot like being the general ma...     1.0\n",
       "..                                                 ...     ...\n",
       "995  wow ! what a movie . \\nit's everything a movie...     1.0\n",
       "996  richard gere can be a commanding actor , but h...     1.0\n",
       "997  glory--starring matthew broderick , denzel was...     1.0\n",
       "998  steven spielberg's second epic film on world w...     1.0\n",
       "999  truman ( \" true-man \" ) burbank is the perfect...     1.0\n",
       "\n",
       "[1000 rows x 2 columns]"
      ]
     },
     "execution_count": 6,
     "metadata": {},
     "output_type": "execute_result"
    }
   ],
   "source": [
    "positive_data=pd.DataFrame(positive_data)\n",
    "positive_data[\"Labels\"]=pd.DataFrame(np.hstack(np.ones(positive_data.shape[0]).T))\n",
    "positive_data"
   ]
  },
  {
   "cell_type": "code",
   "execution_count": 7,
   "metadata": {},
   "outputs": [
    {
     "data": {
      "text/html": [
       "<div>\n",
       "<style scoped>\n",
       "    .dataframe tbody tr th:only-of-type {\n",
       "        vertical-align: middle;\n",
       "    }\n",
       "\n",
       "    .dataframe tbody tr th {\n",
       "        vertical-align: top;\n",
       "    }\n",
       "\n",
       "    .dataframe thead th {\n",
       "        text-align: right;\n",
       "    }\n",
       "</style>\n",
       "<table border=\"1\" class=\"dataframe\">\n",
       "  <thead>\n",
       "    <tr style=\"text-align: right;\">\n",
       "      <th></th>\n",
       "      <th>0</th>\n",
       "      <th>Labels</th>\n",
       "    </tr>\n",
       "  </thead>\n",
       "  <tbody>\n",
       "    <tr>\n",
       "      <th>0</th>\n",
       "      <td>plot : two teen couples go to a church party ,...</td>\n",
       "      <td>0.0</td>\n",
       "    </tr>\n",
       "    <tr>\n",
       "      <th>1</th>\n",
       "      <td>the happy bastard's quick movie review \\ndamn ...</td>\n",
       "      <td>0.0</td>\n",
       "    </tr>\n",
       "    <tr>\n",
       "      <th>2</th>\n",
       "      <td>it is movies like these that make a jaded movi...</td>\n",
       "      <td>0.0</td>\n",
       "    </tr>\n",
       "    <tr>\n",
       "      <th>3</th>\n",
       "      <td>\" quest for camelot \" is warner bros . ' firs...</td>\n",
       "      <td>0.0</td>\n",
       "    </tr>\n",
       "    <tr>\n",
       "      <th>4</th>\n",
       "      <td>synopsis : a mentally unstable man undergoing ...</td>\n",
       "      <td>0.0</td>\n",
       "    </tr>\n",
       "    <tr>\n",
       "      <th>...</th>\n",
       "      <td>...</td>\n",
       "      <td>...</td>\n",
       "    </tr>\n",
       "    <tr>\n",
       "      <th>995</th>\n",
       "      <td>if anything , \" stigmata \" should be taken as ...</td>\n",
       "      <td>0.0</td>\n",
       "    </tr>\n",
       "    <tr>\n",
       "      <th>996</th>\n",
       "      <td>john boorman's \" zardoz \" is a goofy cinematic...</td>\n",
       "      <td>0.0</td>\n",
       "    </tr>\n",
       "    <tr>\n",
       "      <th>997</th>\n",
       "      <td>the kids in the hall are an acquired taste . \\...</td>\n",
       "      <td>0.0</td>\n",
       "    </tr>\n",
       "    <tr>\n",
       "      <th>998</th>\n",
       "      <td>there was a time when john carpenter was a gre...</td>\n",
       "      <td>0.0</td>\n",
       "    </tr>\n",
       "    <tr>\n",
       "      <th>999</th>\n",
       "      <td>two party guys bob their heads to haddaway's d...</td>\n",
       "      <td>0.0</td>\n",
       "    </tr>\n",
       "  </tbody>\n",
       "</table>\n",
       "<p>1000 rows × 2 columns</p>\n",
       "</div>"
      ],
      "text/plain": [
       "                                                     0  Labels\n",
       "0    plot : two teen couples go to a church party ,...     0.0\n",
       "1    the happy bastard's quick movie review \\ndamn ...     0.0\n",
       "2    it is movies like these that make a jaded movi...     0.0\n",
       "3     \" quest for camelot \" is warner bros . ' firs...     0.0\n",
       "4    synopsis : a mentally unstable man undergoing ...     0.0\n",
       "..                                                 ...     ...\n",
       "995  if anything , \" stigmata \" should be taken as ...     0.0\n",
       "996  john boorman's \" zardoz \" is a goofy cinematic...     0.0\n",
       "997  the kids in the hall are an acquired taste . \\...     0.0\n",
       "998  there was a time when john carpenter was a gre...     0.0\n",
       "999  two party guys bob their heads to haddaway's d...     0.0\n",
       "\n",
       "[1000 rows x 2 columns]"
      ]
     },
     "execution_count": 7,
     "metadata": {},
     "output_type": "execute_result"
    }
   ],
   "source": [
    "negative_data=pd.DataFrame(negative_data)\n",
    "negative_data[\"Labels\"]=pd.DataFrame(np.hstack(np.zeros(negative_data.shape[0]).T))\n",
    "negative_data"
   ]
  },
  {
   "cell_type": "code",
   "execution_count": 8,
   "metadata": {},
   "outputs": [],
   "source": [
    "new_data=pd.concat([positive_data, negative_data],ignore_index=True)"
   ]
  },
  {
   "cell_type": "code",
   "execution_count": 9,
   "metadata": {},
   "outputs": [
    {
     "data": {
      "text/html": [
       "<div>\n",
       "<style scoped>\n",
       "    .dataframe tbody tr th:only-of-type {\n",
       "        vertical-align: middle;\n",
       "    }\n",
       "\n",
       "    .dataframe tbody tr th {\n",
       "        vertical-align: top;\n",
       "    }\n",
       "\n",
       "    .dataframe thead th {\n",
       "        text-align: right;\n",
       "    }\n",
       "</style>\n",
       "<table border=\"1\" class=\"dataframe\">\n",
       "  <thead>\n",
       "    <tr style=\"text-align: right;\">\n",
       "      <th></th>\n",
       "      <th>0</th>\n",
       "      <th>Labels</th>\n",
       "    </tr>\n",
       "  </thead>\n",
       "  <tbody>\n",
       "    <tr>\n",
       "      <th>1479</th>\n",
       "      <td>i have a great idea for a movie , one that can...</td>\n",
       "      <td>0.0</td>\n",
       "    </tr>\n",
       "    <tr>\n",
       "      <th>1207</th>\n",
       "      <td>for \" original sin , \" the road to the screen ...</td>\n",
       "      <td>0.0</td>\n",
       "    </tr>\n",
       "    <tr>\n",
       "      <th>479</th>\n",
       "      <td>50's `aliens vs . \\nearth' idea revamped ! \\ni...</td>\n",
       "      <td>1.0</td>\n",
       "    </tr>\n",
       "    <tr>\n",
       "      <th>1549</th>\n",
       "      <td>cradle will rock is the latest effort from dir...</td>\n",
       "      <td>0.0</td>\n",
       "    </tr>\n",
       "    <tr>\n",
       "      <th>626</th>\n",
       "      <td>this reviewer is ignorant of what hands were r...</td>\n",
       "      <td>1.0</td>\n",
       "    </tr>\n",
       "    <tr>\n",
       "      <th>...</th>\n",
       "      <td>...</td>\n",
       "      <td>...</td>\n",
       "    </tr>\n",
       "    <tr>\n",
       "      <th>1191</th>\n",
       "      <td>after enduring mariah carey's film debut , gli...</td>\n",
       "      <td>0.0</td>\n",
       "    </tr>\n",
       "    <tr>\n",
       "      <th>253</th>\n",
       "      <td>\" good will hunting \" is two movies in one : ...</td>\n",
       "      <td>1.0</td>\n",
       "    </tr>\n",
       "    <tr>\n",
       "      <th>1274</th>\n",
       "      <td>the tagline for this film is : \" some houses a...</td>\n",
       "      <td>0.0</td>\n",
       "    </tr>\n",
       "    <tr>\n",
       "      <th>1571</th>\n",
       "      <td>plot : a little boy born in east germany ( nam...</td>\n",
       "      <td>0.0</td>\n",
       "    </tr>\n",
       "    <tr>\n",
       "      <th>1433</th>\n",
       "      <td>the catch phrase for disney's rocket man is on...</td>\n",
       "      <td>0.0</td>\n",
       "    </tr>\n",
       "  </tbody>\n",
       "</table>\n",
       "<p>2000 rows × 2 columns</p>\n",
       "</div>"
      ],
      "text/plain": [
       "                                                      0  Labels\n",
       "1479  i have a great idea for a movie , one that can...     0.0\n",
       "1207  for \" original sin , \" the road to the screen ...     0.0\n",
       "479   50's `aliens vs . \\nearth' idea revamped ! \\ni...     1.0\n",
       "1549  cradle will rock is the latest effort from dir...     0.0\n",
       "626   this reviewer is ignorant of what hands were r...     1.0\n",
       "...                                                 ...     ...\n",
       "1191  after enduring mariah carey's film debut , gli...     0.0\n",
       "253    \" good will hunting \" is two movies in one : ...     1.0\n",
       "1274  the tagline for this film is : \" some houses a...     0.0\n",
       "1571  plot : a little boy born in east germany ( nam...     0.0\n",
       "1433  the catch phrase for disney's rocket man is on...     0.0\n",
       "\n",
       "[2000 rows x 2 columns]"
      ]
     },
     "execution_count": 9,
     "metadata": {},
     "output_type": "execute_result"
    }
   ],
   "source": [
    "from sklearn.utils import shuffle\n",
    "new_data=shuffle(new_data)\n",
    "new_data"
   ]
  },
  {
   "cell_type": "code",
   "execution_count": 10,
   "metadata": {},
   "outputs": [],
   "source": [
    "features=new_data.iloc[:,0]\n",
    "labels=new_data.iloc[:,-1]"
   ]
  },
  {
   "cell_type": "code",
   "execution_count": 11,
   "metadata": {},
   "outputs": [],
   "source": [
    "stop_words=set(stopwords.words(\"english\"))\n",
    "stemm=PorterStemmer()\n",
    "from nltk.stem import WordNetLemmatizer\n",
    "lemm=WordNetLemmatizer()\n",
    "def data_clean(data):\n",
    "    for i in range(len(data)):\n",
    "        cleaned_data=\" \"\n",
    "        data[i]=re.sub(r\"[^a-z A-Z]\", ' ', data[i])\n",
    "        data[i]=data[i].lower()\n",
    "        words=nltk.word_tokenize(data[i])\n",
    "        words=[word for word in words if not word in stop_words]\n",
    "        for w in words:\n",
    "            cleaned_data=cleaned_data+\" \"+str(lemm.lemmatize(w))\n",
    "        data[i]=cleaned_data\n",
    "    return data"
   ]
  },
  {
   "cell_type": "code",
   "execution_count": 12,
   "metadata": {},
   "outputs": [
    {
     "name": "stderr",
     "output_type": "stream",
     "text": [
      "c:\\users\\anupa\\myenv\\lib\\site-packages\\ipykernel_launcher.py:8: SettingWithCopyWarning: \n",
      "A value is trying to be set on a copy of a slice from a DataFrame\n",
      "\n",
      "See the caveats in the documentation: https://pandas.pydata.org/pandas-docs/stable/user_guide/indexing.html#returning-a-view-versus-a-copy\n",
      "  \n",
      "c:\\users\\anupa\\myenv\\lib\\site-packages\\ipykernel_launcher.py:9: SettingWithCopyWarning: \n",
      "A value is trying to be set on a copy of a slice from a DataFrame\n",
      "\n",
      "See the caveats in the documentation: https://pandas.pydata.org/pandas-docs/stable/user_guide/indexing.html#returning-a-view-versus-a-copy\n",
      "  if __name__ == '__main__':\n",
      "c:\\users\\anupa\\myenv\\lib\\site-packages\\ipykernel_launcher.py:14: SettingWithCopyWarning: \n",
      "A value is trying to be set on a copy of a slice from a DataFrame\n",
      "\n",
      "See the caveats in the documentation: https://pandas.pydata.org/pandas-docs/stable/user_guide/indexing.html#returning-a-view-versus-a-copy\n",
      "  \n"
     ]
    }
   ],
   "source": [
    "clean_features=data_clean(features)"
   ]
  },
  {
   "cell_type": "code",
   "execution_count": 13,
   "metadata": {},
   "outputs": [
    {
     "data": {
      "text/plain": [
       "1479      great idea movie one miss see got coolio son...\n",
       "1207      original sin road screen rocky initially sla...\n",
       "479       alien v earth idea revamped following movie ...\n",
       "1549      cradle rock latest effort director actor tim...\n",
       "626       reviewer ignorant hand responsible deliverin...\n",
       "                              ...                        \n",
       "1191      enduring mariah carey film debut glitter rem...\n",
       "253       good hunting two movie one independent take ...\n",
       "1274      tagline film house born bad expect much pres...\n",
       "1571      plot little boy born east germany named hans...\n",
       "1433      catch phrase disney rocket man one spoken fr...\n",
       "Name: 0, Length: 2000, dtype: object"
      ]
     },
     "execution_count": 13,
     "metadata": {},
     "output_type": "execute_result"
    }
   ],
   "source": [
    "clean_features"
   ]
  },
  {
   "cell_type": "code",
   "execution_count": 14,
   "metadata": {},
   "outputs": [],
   "source": [
    "# Importing gensim library for word2vec model, we can also use other approach by creaing BOW or tfidf.\n",
    "import gensim\n",
    "documents = [_text.split() for _text in clean_features] "
   ]
  },
  {
   "cell_type": "code",
   "execution_count": 15,
   "metadata": {},
   "outputs": [
    {
     "data": {
      "text/plain": [
       "22489"
      ]
     },
     "execution_count": 15,
     "metadata": {},
     "output_type": "execute_result"
    }
   ],
   "source": [
    "w2v_model = gensim.models.word2vec.Word2Vec(size=32, window=7,  min_count=2, workers=8)\n",
    "# Creating vocabulary from the corpus\n",
    "w2v_model.build_vocab(documents)\n",
    "vocab=w2v_model.wv.vocab.keys()\n",
    "vocab_size=len(vocab)\n",
    "vocab_size"
   ]
  },
  {
   "cell_type": "code",
   "execution_count": 16,
   "metadata": {},
   "outputs": [
    {
     "data": {
      "text/plain": [
       "(21360280, 22477568)"
      ]
     },
     "execution_count": 16,
     "metadata": {},
     "output_type": "execute_result"
    }
   ],
   "source": [
    "# Training model on the corpus to check symentically similar words\n",
    "w2v_model.train(documents, total_examples=len(documents), epochs=32)"
   ]
  },
  {
   "cell_type": "code",
   "execution_count": 17,
   "metadata": {},
   "outputs": [
    {
     "name": "stderr",
     "output_type": "stream",
     "text": [
      "c:\\users\\anupa\\myenv\\lib\\site-packages\\ipykernel_launcher.py:1: DeprecationWarning: Call to deprecated `most_similar` (Method will be removed in 4.0.0, use self.wv.most_similar() instead).\n",
      "  \"\"\"Entry point for launching an IPython kernel.\n"
     ]
    },
    {
     "data": {
      "text/plain": [
       "[('groundbreaking', 0.6644600629806519),\n",
       " ('inferior', 0.6535037755966187),\n",
       " ('sequel', 0.6441554427146912),\n",
       " ('disappointing', 0.6324331164360046),\n",
       " ('spawned', 0.6272044777870178),\n",
       " ('continuation', 0.6239487528800964),\n",
       " ('rehash', 0.6161706447601318),\n",
       " ('entry', 0.6062821745872498),\n",
       " ('reshooting', 0.6015687584877014),\n",
       " ('unoriginal', 0.6014552712440491)]"
      ]
     },
     "execution_count": 17,
     "metadata": {},
     "output_type": "execute_result"
    }
   ],
   "source": [
    "w2v_model.most_similar(\"original\")"
   ]
  },
  {
   "cell_type": "code",
   "execution_count": 18,
   "metadata": {},
   "outputs": [
    {
     "name": "stdout",
     "output_type": "stream",
     "text": [
      "34349\n"
     ]
    }
   ],
   "source": [
    "tokenizer=Tokenizer(num_words=vocab_size)\n",
    "tokenizer.fit_on_texts(clean_features)\n",
    "word_index=tokenizer.word_index\n",
    "vocab_len=len(word_index)\n",
    "print(vocab_len)"
   ]
  },
  {
   "cell_type": "code",
   "execution_count": 19,
   "metadata": {},
   "outputs": [],
   "source": [
    "from tensorflow.keras.preprocessing.sequence import pad_sequences\n",
    "training_sequences = tokenizer.texts_to_sequences(clean_features)\n",
    "training_padded = pad_sequences(training_sequences, maxlen=600, padding=\"post\", truncating=\"post\")"
   ]
  },
  {
   "cell_type": "code",
   "execution_count": 20,
   "metadata": {},
   "outputs": [
    {
     "data": {
      "text/plain": [
       "array([[  52,  171,    2, ...,    0,    0,    0],\n",
       "       [ 109, 2522,  891, ...,    0,    0,    0],\n",
       "       [ 141, 1705,  342, ...,    0,    0,    0],\n",
       "       ...,\n",
       "       [5365,    1,  257, ...,    0,    0,    0],\n",
       "       [  26,   29,  195, ...,    0,    0,    0],\n",
       "       [ 828, 2635,  384, ...,    0,    0,    0]])"
      ]
     },
     "execution_count": 20,
     "metadata": {},
     "output_type": "execute_result"
    }
   ],
   "source": [
    "training_padded"
   ]
  },
  {
   "cell_type": "code",
   "execution_count": 21,
   "metadata": {},
   "outputs": [],
   "source": [
    "from sklearn.model_selection import train_test_split\n",
    "x_train, x_test, y_train, y_test=train_test_split(training_padded, labels, test_size=0.2, random_state=0)"
   ]
  },
  {
   "cell_type": "code",
   "execution_count": 22,
   "metadata": {},
   "outputs": [
    {
     "name": "stdout",
     "output_type": "stream",
     "text": [
      "(34349, 32)\n"
     ]
    }
   ],
   "source": [
    "embedd_matrix = np.zeros((vocab_len, 32))\n",
    "for word, i in tokenizer.word_index.items():\n",
    "    \n",
    "    if word in w2v_model.wv:\n",
    "        embedd_matrix[i] = w2v_model.wv[word]\n",
    "print(embedd_matrix.shape)"
   ]
  },
  {
   "cell_type": "code",
   "execution_count": 23,
   "metadata": {},
   "outputs": [],
   "source": [
    "from tensorflow import keras\n",
    "opt = keras.optimizers.RMSprop(learning_rate=0.001)"
   ]
  },
  {
   "cell_type": "code",
   "execution_count": 24,
   "metadata": {},
   "outputs": [
    {
     "name": "stdout",
     "output_type": "stream",
     "text": [
      "Model: \"sequential\"\n",
      "_________________________________________________________________\n",
      "Layer (type)                 Output Shape              Param #   \n",
      "=================================================================\n",
      "embedding (Embedding)        (None, 600, 32)           1099168   \n",
      "_________________________________________________________________\n",
      "flatten (Flatten)            (None, 19200)             0         \n",
      "_________________________________________________________________\n",
      "dense (Dense)                (None, 250)               4800250   \n",
      "_________________________________________________________________\n",
      "dense_1 (Dense)              (None, 175)               43925     \n",
      "_________________________________________________________________\n",
      "dense_2 (Dense)              (None, 100)               17600     \n",
      "_________________________________________________________________\n",
      "dense_3 (Dense)              (None, 90)                9090      \n",
      "_________________________________________________________________\n",
      "dense_4 (Dense)              (None, 75)                6825      \n",
      "_________________________________________________________________\n",
      "dense_5 (Dense)              (None, 1)                 76        \n",
      "=================================================================\n",
      "Total params: 5,976,934\n",
      "Trainable params: 4,877,766\n",
      "Non-trainable params: 1,099,168\n",
      "_________________________________________________________________\n"
     ]
    }
   ],
   "source": [
    "model= Sequential()\n",
    "model.add(Embedding(vocab_len, 32, weights=[embedd_matrix], input_length=600, trainable=False))\n",
    "model.add(Flatten())\n",
    "model.add(Dense(250, activation=\"sigmoid\"))\n",
    "model.add(Dense(175, activation=\"sigmoid\"))\n",
    "model.add(Dense(100, activation=\"sigmoid\"))\n",
    "model.add(Dense(90, activation=\"sigmoid\"))\n",
    "model.add(Dense(75,activation=\"sigmoid\"))\n",
    "model.add(Dense(1, activation=\"relu\"))\n",
    "model.compile(loss=\"binary_crossentropy\", optimizer=opt, metrics=[\"accuracy\"])\n",
    "model.summary()"
   ]
  },
  {
   "cell_type": "code",
   "execution_count": 25,
   "metadata": {},
   "outputs": [
    {
     "name": "stdout",
     "output_type": "stream",
     "text": [
      "Epoch 1/10\n",
      "50/50 [==============================] - 5s 91ms/step - loss: 7.6353 - accuracy: 0.5050 - val_loss: 8.0210 - val_accuracy: 0.4800\n",
      "Epoch 2/10\n",
      "50/50 [==============================] - 4s 85ms/step - loss: 7.6353 - accuracy: 0.5050 - val_loss: 8.0210 - val_accuracy: 0.4800\n",
      "Epoch 3/10\n",
      "50/50 [==============================] - 4s 85ms/step - loss: 7.6353 - accuracy: 0.5050 - val_loss: 8.0210 - val_accuracy: 0.4800\n",
      "Epoch 4/10\n",
      "50/50 [==============================] - 4s 84ms/step - loss: 7.6353 - accuracy: 0.5050 - val_loss: 8.0210 - val_accuracy: 0.4800\n",
      "Epoch 5/10\n",
      "50/50 [==============================] - 4s 84ms/step - loss: 7.6353 - accuracy: 0.5050 - val_loss: 8.0210 - val_accuracy: 0.4800\n",
      "Epoch 6/10\n",
      "50/50 [==============================] - 4s 85ms/step - loss: 7.6353 - accuracy: 0.5050 - val_loss: 8.0210 - val_accuracy: 0.4800\n",
      "Epoch 7/10\n",
      "50/50 [==============================] - 4s 85ms/step - loss: 7.6353 - accuracy: 0.5050 - val_loss: 8.0210 - val_accuracy: 0.4800\n",
      "Epoch 8/10\n",
      "50/50 [==============================] - 4s 87ms/step - loss: 7.6353 - accuracy: 0.5050 - val_loss: 8.0210 - val_accuracy: 0.4800\n",
      "Epoch 9/10\n",
      "50/50 [==============================] - 4s 84ms/step - loss: 7.6353 - accuracy: 0.5050 - val_loss: 8.0210 - val_accuracy: 0.4800\n",
      "Epoch 10/10\n",
      "50/50 [==============================] - 4s 87ms/step - loss: 7.6353 - accuracy: 0.5050 - val_loss: 8.0210 - val_accuracy: 0.4800\n"
     ]
    }
   ],
   "source": [
    "history= model.fit(x_train, y_train, validation_data=(x_test, y_test), epochs=10 ,verbose=1)"
   ]
  },
  {
   "cell_type": "code",
   "execution_count": 26,
   "metadata": {},
   "outputs": [
    {
     "data": {
      "image/png": "[encoded data removed]",
      "text/plain": [
       "<Figure size 432x288 with 1 Axes>"
      ]
     },
     "metadata": {
      "needs_background": "light"
     },
     "output_type": "display_data"
    },
    {
     "data": {
      "image/png": "[encoded data removed]",
      "text/plain": [
       "<Figure size 432x288 with 1 Axes>"
      ]
     },
     "metadata": {
      "needs_background": "light"
     },
     "output_type": "display_data"
    }
   ],
   "source": [
    "import matplotlib.pyplot as plt\n",
    "\n",
    "\n",
    "def plot_graphs(history, string):\n",
    "  plt.plot(history.history[string])\n",
    "  plt.plot(history.history['val_'+string])\n",
    "  plt.xlabel(\"Epochs\")\n",
    "  plt.ylabel(string)\n",
    "  plt.legend([string, 'val_'+string])\n",
    "  plt.show()\n",
    "  \n",
    "plot_graphs(history, \"accuracy\")\n",
    "plot_graphs(history, \"loss\")"
   ]
  },
  {
   "cell_type": "code",
   "execution_count": 31,
   "metadata": {},
   "outputs": [
    {
     "data": {
      "text/html": [
       "<div>\n",
       "<style scoped>\n",
       "    .dataframe tbody tr th:only-of-type {\n",
       "        vertical-align: middle;\n",
       "    }\n",
       "\n",
       "    .dataframe tbody tr th {\n",
       "        vertical-align: top;\n",
       "    }\n",
       "\n",
       "    .dataframe thead th {\n",
       "        text-align: right;\n",
       "    }\n",
       "</style>\n",
       "<table border=\"1\" class=\"dataframe\">\n",
       "  <thead>\n",
       "    <tr style=\"text-align: right;\">\n",
       "      <th></th>\n",
       "      <th>tfidf</th>\n",
       "    </tr>\n",
       "  </thead>\n",
       "  <tbody>\n",
       "    <tr>\n",
       "      <th>eddie</th>\n",
       "      <td>0.411322</td>\n",
       "    </tr>\n",
       "    <tr>\n",
       "      <th>knicks</th>\n",
       "      <td>0.311366</td>\n",
       "    </tr>\n",
       "    <tr>\n",
       "      <th>nba</th>\n",
       "      <td>0.214489</td>\n",
       "    </tr>\n",
       "    <tr>\n",
       "      <th>coach</th>\n",
       "      <td>0.158940</td>\n",
       "    </tr>\n",
       "    <tr>\n",
       "      <th>player</th>\n",
       "      <td>0.147011</td>\n",
       "    </tr>\n",
       "    <tr>\n",
       "      <th>...</th>\n",
       "      <td>...</td>\n",
       "    </tr>\n",
       "    <tr>\n",
       "      <th>foresee</th>\n",
       "      <td>0.000000</td>\n",
       "    </tr>\n",
       "    <tr>\n",
       "      <th>forerunner</th>\n",
       "      <td>0.000000</td>\n",
       "    </tr>\n",
       "    <tr>\n",
       "      <th>foreplay</th>\n",
       "      <td>0.000000</td>\n",
       "    </tr>\n",
       "    <tr>\n",
       "      <th>forensics</th>\n",
       "      <td>0.000000</td>\n",
       "    </tr>\n",
       "    <tr>\n",
       "      <th>zzzzzzz</th>\n",
       "      <td>0.000000</td>\n",
       "    </tr>\n",
       "  </tbody>\n",
       "</table>\n",
       "<p>34327 rows × 1 columns</p>\n",
       "</div>"
      ],
      "text/plain": [
       "               tfidf\n",
       "eddie       0.411322\n",
       "knicks      0.311366\n",
       "nba         0.214489\n",
       "coach       0.158940\n",
       "player      0.147011\n",
       "...              ...\n",
       "foresee     0.000000\n",
       "forerunner  0.000000\n",
       "foreplay    0.000000\n",
       "forensics   0.000000\n",
       "zzzzzzz     0.000000\n",
       "\n",
       "[34327 rows x 1 columns]"
      ]
     },
     "execution_count": 31,
     "metadata": {},
     "output_type": "execute_result"
    }
   ],
   "source": [
    "# As neural network is not providing satisfied result, logistic regression model is used. Use of tfidf matrix\n",
    "\n",
    "from sklearn.feature_extraction.text import TfidfVectorizer\n",
    "tfidf=TfidfVectorizer(use_idf=True)\n",
    "tf_idf_vectors=tfidf.fit_transform(clean_features)\n",
    "# get the first vector out (for the first document)\n",
    "first_vector_tfidfvectorizer=tf_idf_vectors[0]\n",
    "\n",
    "# place tf-idf values in a pandas data frame\n",
    "dframe = pd.DataFrame(first_vector_tfidfvectorizer.T.todense(), index=tfidf.get_feature_names(), columns=[\"tfidf\"])\n",
    "dframe.sort_values(by=[\"tfidf\"],ascending=False)"
   ]
  },
  {
   "cell_type": "code",
   "execution_count": 34,
   "metadata": {},
   "outputs": [],
   "source": [
    "x_train1, x_test1, y_train1, y_test1=train_test_split(tf_idf_vectors, labels, test_size=0.2, random_state=0)"
   ]
  },
  {
   "cell_type": "code",
   "execution_count": 35,
   "metadata": {},
   "outputs": [],
   "source": [
    "from sklearn.linear_model import LogisticRegression\n",
    "log=LogisticRegression()\n",
    "k=log.fit(x_train1, y_train1)"
   ]
  },
  {
   "cell_type": "code",
   "execution_count": 36,
   "metadata": {},
   "outputs": [],
   "source": [
    "yp=log.predict(x_test1)"
   ]
  },
  {
   "cell_type": "code",
   "execution_count": 37,
   "metadata": {},
   "outputs": [
    {
     "name": "stdout",
     "output_type": "stream",
     "text": [
      "Logistic Regression model accuracy(in %): 83.0\n"
     ]
    }
   ],
   "source": [
    "from sklearn import datasets, linear_model, metrics \n",
    "print(\"Logistic Regression model accuracy(in %):\",  \n",
    "metrics.accuracy_score(y_test1, yp)*100) "
   ]
  },
  {
   "cell_type": "code",
   "execution_count": 38,
   "metadata": {},
   "outputs": [
    {
     "data": {
      "image/png": "[encoded data removed]",
      "text/plain": [
       "<Figure size 432x288 with 2 Axes>"
      ]
     },
     "metadata": {
      "needs_background": "light"
     },
     "output_type": "display_data"
    }
   ],
   "source": [
    "from sklearn.datasets import make_classification\n",
    "from sklearn.metrics import plot_confusion_matrix\n",
    "\n",
    "plot_confusion_matrix(k, x_test1, y_test1)  \n",
    "plt.show()"
   ]
  },
  {
   "cell_type": "code",
   "execution_count": null,
   "metadata": {},
   "outputs": [],
   "source": []
  }
 ],
 "metadata": {
  "kernelspec": {
   "display_name": "Python 3",
   "language": "python",
   "name": "python3"
  },
  "language_info": {
   "codemirror_mode": {
    "name": "ipython",
    "version": 3
   },
   "file_extension": ".py",
   "mimetype": "text/x-python",
   "name": "python",
   "nbconvert_exporter": "python",
   "pygments_lexer": "ipython3",
   "version": "3.7.8"
  }
 },
 "nbformat": 4,
 "nbformat_minor": 4
}
